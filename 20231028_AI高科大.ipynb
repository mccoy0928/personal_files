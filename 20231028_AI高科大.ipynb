{
  "nbformat": 4,
  "nbformat_minor": 0,
  "metadata": {
    "colab": {
      "provenance": [],
      "collapsed_sections": [
        "620SnGmB0MIi"
      ],
      "authorship_tag": "ABX9TyO8EGPG/DMOFMzzoEHoUPY6",
      "include_colab_link": true
    },
    "kernelspec": {
      "name": "python3",
      "display_name": "Python 3"
    },
    "language_info": {
      "name": "python"
    }
  },
  "cells": [
    {
      "cell_type": "markdown",
      "metadata": {
        "id": "view-in-github",
        "colab_type": "text"
      },
      "source": [
        "<a href=\"https://colab.research.google.com/github/mccoy0928/personal_files/blob/main/20231028_AI%E9%AB%98%E7%A7%91%E5%A4%A7.ipynb\" target=\"_parent\"><img src=\"https://colab.research.google.com/assets/colab-badge.svg\" alt=\"Open In Colab\"/></a>"
      ]
    },
    {
      "cell_type": "markdown",
      "source": [
        "# 20231028 AI高科大python課程簡介\n",
        "\n",
        "## what's  Pandas\n",
        "\n",
        "## 爬蟲\n",
        "\n",
        "## 爬蟲案例\n",
        "\n",
        "## 爬蟲課程簡介\n",
        "\n"
      ],
      "metadata": {
        "id": "620SnGmB0MIi"
      }
    },
    {
      "cell_type": "markdown",
      "source": [
        "# 第一二週基礎介紹 anaconda下載&安裝\n",
        "\n",
        "# 第三週爬蟲實作\n",
        "\n",
        "# 第四週Pandas & Excel操作\n"
      ],
      "metadata": {
        "id": "ol_9gAS81Urq"
      }
    },
    {
      "cell_type": "code",
      "execution_count": 1,
      "metadata": {
        "id": "hNN6oWLs0Fqo"
      },
      "outputs": [],
      "source": [
        "# del 為刪除變數\n",
        "c = 2\n",
        "del c"
      ]
    },
    {
      "cell_type": "code",
      "source": [
        "c"
      ],
      "metadata": {
        "colab": {
          "base_uri": "https://localhost:8080/",
          "height": 177
        },
        "id": "aSaBjUo4FmPz",
        "outputId": "70317274-f508-4dea-9f28-0d6d528e1090"
      },
      "execution_count": 2,
      "outputs": [
        {
          "output_type": "error",
          "ename": "NameError",
          "evalue": "ignored",
          "traceback": [
            "\u001b[0;31m---------------------------------------------------------------------------\u001b[0m",
            "\u001b[0;31mNameError\u001b[0m                                 Traceback (most recent call last)",
            "\u001b[0;32m<ipython-input-2-2b66fd261ee5>\u001b[0m in \u001b[0;36m<cell line: 1>\u001b[0;34m()\u001b[0m\n\u001b[0;32m----> 1\u001b[0;31m \u001b[0mc\u001b[0m\u001b[0;34m\u001b[0m\u001b[0;34m\u001b[0m\u001b[0m\n\u001b[0m",
            "\u001b[0;31mNameError\u001b[0m: name 'c' is not defined"
          ]
        }
      ]
    },
    {
      "cell_type": "code",
      "source": [
        "# 遞迴函數\n",
        "def factorial(n):\n",
        "    if n == 0 or n == 1:\n",
        "        return 1\n",
        "    else:\n",
        "        return n * factorial(n - 1)"
      ],
      "metadata": {
        "id": "Y1mY-_KSp5YX"
      },
      "execution_count": 1,
      "outputs": []
    },
    {
      "cell_type": "code",
      "source": [
        "factorial(5)"
      ],
      "metadata": {
        "colab": {
          "base_uri": "https://localhost:8080/"
        },
        "id": "XeQSY0n2qFx-",
        "outputId": "14c96c0f-a68d-4a07-98bf-fe0a97fea5ce"
      },
      "execution_count": 3,
      "outputs": [
        {
          "output_type": "execute_result",
          "data": {
            "text/plain": [
              "120"
            ]
          },
          "metadata": {},
          "execution_count": 3
        }
      ]
    },
    {
      "cell_type": "code",
      "source": [
        "## step 1\n",
        "a = 1\n",
        "b = c = 2\n",
        "\n",
        "del c  # 刪除變數\n",
        "\n",
        "# 單行註解\n",
        "\n",
        "'''\n",
        "多行註解  3個（單引號） or （雙引號）\n",
        "中文字是可以當變數 注意引號需為半形\n",
        "'''\n",
        "my = 天氣 = \"晴天\"\n",
        "\n",
        "\n",
        "type(my)\n",
        "\n",
        "int(a1)+a2\n",
        "\n",
        "str1 = '12\\'3'   # \\跳脫字元\n",
        "\n",
        "str2 = \"c:\\\\desktop\\\\user\\\\\"\n",
        "print(str2)\n",
        "\n",
        "str3 = '\\t123 \\n456'\n",
        "print(str3)\n",
        "\n",
        "# 函數y=F(x)\n",
        "a = int('123')\n",
        "b = 4\n",
        "print(a+b)\n",
        "\n",
        "for i in range(2, 10):\n",
        "    for j in range(1, 10):\n",
        "        print(i, '*', j, '=', i*j)\n",
        "\n",
        "\n",
        "# f string\n",
        "a = 'Tai'\n",
        "print(f'b={a}')\n",
        "\n",
        "a1 = '123'\n",
        "a2 = 456\n",
        "\n"
      ],
      "metadata": {
        "id": "x3xFMJwYwYFa"
      },
      "execution_count": null,
      "outputs": []
    },
    {
      "cell_type": "code",
      "source": [
        "### step 2\n",
        "top1 = float(input('梯形上部寬:'))\n",
        "bot2 = float(input('梯形底部寬:'))\n",
        "higth3 = float(input('梯形高度:'))\n",
        "sizeAll = (top1+bot2)*higth3/2\n",
        "\n",
        "print(f'梯形面積:{sizeAll}')\n",
        "\n",
        "\n",
        "本金 = 1000\n",
        "利率 = 1.02\n",
        "年份 = 3\n",
        "\n",
        "本金 *= 利率**年份\n",
        "\n",
        "print(f'{本金:0.3f}')"
      ],
      "metadata": {
        "id": "A_Ym0zogwJN0"
      },
      "execution_count": null,
      "outputs": []
    },
    {
      "cell_type": "code",
      "source": [
        "### step 3\n",
        "class1 = input('國文成績')\n",
        "class2 = input('英文成績')\n",
        "class3 = input('數學成績')\n",
        "\n",
        "sumTotal = int(class1)+int(class2)+int(class3)\n",
        "\n",
        "print(f'總成績分數：{sumTotal}')\n"
      ],
      "metadata": {
        "id": "KitvssY_wN4g"
      },
      "execution_count": null,
      "outputs": []
    },
    {
      "cell_type": "code",
      "source": [
        "# step 4\n",
        "\n",
        "passin = \"1234\"\n",
        "\n",
        "while (1):\n",
        "    mykeyin = input('please key in password:(or \\'q\\' for exit)')\n",
        "\n",
        "    if mykeyin == passin:\n",
        "        print('welcome in & happy see you!')\n",
        "    elif mykeyin ==\"q\":\n",
        "        break\n",
        "    else :\n",
        "        print('You\\'re wrong password!')"
      ],
      "metadata": {
        "id": "o1O3RhwDy9mJ"
      },
      "execution_count": null,
      "outputs": []
    },
    {
      "cell_type": "code",
      "source": [
        "# step 5\n",
        "scorpe = int(input('請輸入分數：'))\n",
        "\n",
        "if scorpe < 60:\n",
        "    print('丁等')\n",
        "elif scorpe < 70 :\n",
        "    print('丙等')\n",
        "elif scorpe < 80 :\n",
        "    print('乙等')\n",
        "elif scorpe < 90 :\n",
        "    print('甲等')\n",
        "elif scorpe > 89 :\n",
        "    print('優等')\n",
        "else:\n",
        "    print('查無分等！')"
      ],
      "metadata": {
        "id": "o51Mkiao1tkV"
      },
      "execution_count": null,
      "outputs": []
    }
  ]
}