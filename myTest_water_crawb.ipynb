{
  "nbformat": 4,
  "nbformat_minor": 0,
  "metadata": {
    "colab": {
      "name": "myTest_water_crawb.ipynb",
      "provenance": [],
      "authorship_tag": "ABX9TyM2NR0qOYjnacMfox5oh+RL",
      "include_colab_link": true
    },
    "kernelspec": {
      "name": "python3",
      "display_name": "Python 3"
    },
    "language_info": {
      "name": "python"
    }
  },
  "cells": [
    {
      "cell_type": "markdown",
      "metadata": {
        "id": "view-in-github",
        "colab_type": "text"
      },
      "source": [
        "<a href=\"https://colab.research.google.com/github/mccoy0928/personal_files/blob/main/myTest_water_crawb.ipynb\" target=\"_parent\"><img src=\"https://colab.research.google.com/assets/colab-badge.svg\" alt=\"Open In Colab\"/></a>"
      ]
    },
    {
      "cell_type": "code",
      "execution_count": 4,
      "metadata": {
        "colab": {
          "base_uri": "https://localhost:8080/"
        },
        "id": "au519dAVvAUX",
        "outputId": "a397fbd6-2d4f-417b-cb56-0650995c2069"
      },
      "outputs": [
        {
          "output_type": "stream",
          "name": "stdout",
          "text": [
            "新山水庫(基隆) 7001.1萬立方公尺 \n",
            "\n",
            "翡翠水庫(台北、新北) 26722.51萬立方公尺 \n",
            "\n",
            "石門水庫(新北、桃園、新竹) 4025.63萬立方公尺 \n",
            "\n",
            "永和山水庫(新竹、苗栗) 685.598萬立方公尺 \n",
            "\n",
            "寶山水庫(新竹) 7001.1萬立方公尺 \n",
            "\n",
            "寶山第二水庫(新竹) 7001.1萬立方公尺 \n",
            "\n",
            "明德水庫(苗栗) 262.0316萬立方公尺 \n",
            "\n",
            "鯉魚潭水庫(苗栗、台中) 9857.34萬立方公尺 \n",
            "\n",
            "德基水庫(台中) 762.27萬立方公尺 \n",
            "\n",
            "石岡壩(台中) 11486萬立方公尺 \n",
            "\n",
            "日月潭水庫(南投) 5741萬立方公尺 \n",
            "\n",
            "霧社水庫(南投) 3269.4萬立方公尺 \n",
            "\n",
            "湖山水庫(雲林、彰化、嘉義) 820.884613萬立方公尺 \n",
            "\n",
            "仁義潭水庫(嘉義) 820.884613萬立方公尺 \n",
            "\n",
            "蘭潭水庫(嘉義) 1086.97萬立方公尺 \n",
            "\n",
            "白河水庫(台南) 1086.97萬立方公尺 \n",
            "\n",
            "曾文水庫(嘉義、台南) 1086.97萬立方公尺 \n",
            "\n",
            "烏山頭水庫(台南) 1086.97萬立方公尺 \n",
            "\n",
            "南化水庫(台南、高雄) 1086.97萬立方公尺 \n",
            "\n",
            "阿公店水庫(高雄) 1086.97萬立方公尺 \n",
            "\n",
            "牡丹水庫(屏東) 1086.97萬立方公尺 \n",
            "\n"
          ]
        }
      ],
      "source": [
        "import requests\n",
        "from bs4 import BeautifulSoup\n",
        "\n",
        "url = 'https://water.taiwanstat.com/'\n",
        "web = requests.get(url)\n",
        "#soup = BeautifulSoup(web.text, \"html.parser\")\n",
        "soup = BeautifulSoup(web.text)\n",
        "reservoir = soup.select('.reservoir')     # 取得所有 class 為 reservoir 的 tag\n",
        "for i in reservoir:\n",
        "  print(i.find('div', class_='name').get_text(), end=' ')  # 取得內容的 class 為 name 的 div 文字\n",
        "  print(i.find('h5').get_text(), end=' ')   # 取得內容 h5 tag 的文字\n",
        "  print('\\n')"
      ]
    }
  ]
}